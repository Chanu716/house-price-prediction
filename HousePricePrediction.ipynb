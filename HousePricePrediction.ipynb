{
 "cells": [
  {
   "cell_type": "markdown",
   "id": "43637d85",
   "metadata": {},
   "source": [
    "### HOUSE PREDICTION MODEL"
   ]
  },
  {
   "cell_type": "markdown",
   "id": "9a47df9f",
   "metadata": {},
   "source": [
    "Installing Libraries"
   ]
  },
  {
   "cell_type": "code",
   "execution_count": null,
   "id": "b1ed0434",
   "metadata": {},
   "outputs": [],
   "source": [
    "pip install pandas numpy matplotlib seaborn"
   ]
  },
  {
   "cell_type": "markdown",
   "id": "058c810c",
   "metadata": {},
   "source": [
    "Importing Pandas Library and reading the csv file"
   ]
  },
  {
   "cell_type": "code",
   "execution_count": null,
   "id": "d977020a",
   "metadata": {},
   "outputs": [],
   "source": [
    "import pandas as pd\n",
    "\n",
    "df = pd.read_csv(\"train.csv\")"
   ]
  },
  {
   "cell_type": "markdown",
   "id": "cf4afcf9",
   "metadata": {},
   "source": [
    "Studying basic info of the csv file"
   ]
  },
  {
   "cell_type": "code",
   "execution_count": null,
   "id": "bb037ed1",
   "metadata": {},
   "outputs": [],
   "source": [
    "print(df.shape)\n",
    "print(df.head())\n",
    "print(df.info())"
   ]
  },
  {
   "cell_type": "markdown",
   "id": "bf9e1a1a",
   "metadata": {},
   "source": [
    "Checking for missing value (null) count of each feature"
   ]
  },
  {
   "cell_type": "code",
   "execution_count": null,
   "id": "eaf3b2b4",
   "metadata": {},
   "outputs": [],
   "source": [
    "missing = df.isnull().sum()\n",
    "missing = missing[missing > 0].sort_values(ascending=False)\n",
    "print(missing)\n"
   ]
  },
  {
   "cell_type": "markdown",
   "id": "cc9733db",
   "metadata": {},
   "source": [
    "Summary of statistics"
   ]
  },
  {
   "cell_type": "code",
   "execution_count": null,
   "id": "82149c56",
   "metadata": {},
   "outputs": [],
   "source": [
    "print(df.describe())   # numerical summary\n",
    "print(df['SalePrice'].describe())   # target variable"
   ]
  },
  {
   "cell_type": "markdown",
   "id": "14e8fa29",
   "metadata": {},
   "source": [
    "Importing visulaization libraries"
   ]
  },
  {
   "cell_type": "code",
   "execution_count": null,
   "id": "51b89628",
   "metadata": {},
   "outputs": [],
   "source": [
    "import matplotlib.pyplot as plt\n",
    "import seaborn as sns"
   ]
  },
  {
   "cell_type": "markdown",
   "id": "3dfa61fc",
   "metadata": {},
   "source": [
    "Plotting Graphs"
   ]
  },
  {
   "cell_type": "code",
   "execution_count": null,
   "id": "64f06e1e",
   "metadata": {},
   "outputs": [],
   "source": [
    "plt.figure(figsize=(8,5))\n",
    "sns.histplot(df['SalePrice'], kde=True)\n",
    "plt.title(\"Distribution of SalePrice\")\n",
    "plt.show()\n",
    "\n",
    "# Correlation heatmap (numerical features only)\n",
    "plt.figure(figsize=(12,8))\n",
    "sns.heatmap(df.select_dtypes(include='number').corr(), cmap=\"coolwarm\")\n",
    "plt.title(\"Correlation Heatmap\")\n",
    "plt.show()\n",
    "\n",
    "# Example: Relationship between Overall Quality and SalePrice\n",
    "plt.figure(figsize=(8,5))\n",
    "sns.boxplot(x='OverallQual', y='SalePrice', data=df)\n",
    "plt.title(\"Overall Quality vs SalePrice\")\n",
    "plt.show()"
   ]
  },
  {
   "cell_type": "markdown",
   "id": "456218cb",
   "metadata": {},
   "source": [
    "Filling Missing Values"
   ]
  },
  {
   "cell_type": "code",
   "execution_count": null,
   "id": "751cad8d",
   "metadata": {},
   "outputs": [],
   "source": [
    "# Separate features and target\n",
    "y = df[\"SalePrice\"]           # <-- keep raw values\n",
    "X = df.drop(\"SalePrice\", axis=1)\n",
    "\n",
    "# Separate numerical and categorical features\n",
    "num_features = X.select_dtypes(include=['int64', 'float64']).columns\n",
    "cat_features = X.select_dtypes(include=['object']).columns\n",
    "\n",
    "# Fill missing values\n",
    "for col in num_features:\n",
    "    X[col] = X[col].fillna(X[col].median())\n",
    "for col in cat_features:\n",
    "    X[col] = X[col].fillna(X[col].mode()[0])\n",
    "\n",
    "# One-hot encode categoricals\n",
    "X = pd.get_dummies(X, columns=cat_features, drop_first=True)\n",
    "\n",
    "# Feature scaling (only X, not y)\n",
    "from sklearn.preprocessing import StandardScaler\n",
    "scaler = StandardScaler()\n",
    "X[num_features] = scaler.fit_transform(X[num_features])\n",
    "print(y.head())\n",
    "print(y.describe())"
   ]
  },
  {
   "cell_type": "markdown",
   "id": "8a6b6019",
   "metadata": {},
   "source": [
    "Encoding Categorical Features"
   ]
  },
  {
   "cell_type": "code",
   "execution_count": null,
   "id": "5314caf7",
   "metadata": {},
   "outputs": [],
   "source": [
    "# One-hot encoding for categorical columns\n",
    "df = pd.get_dummies(df, columns=cat_features, drop_first=True)\n",
    "print(df.shape)"
   ]
  },
  {
   "cell_type": "markdown",
   "id": "bcd72c04",
   "metadata": {},
   "source": [
    "Feature Scaling"
   ]
  },
  {
   "cell_type": "code",
   "execution_count": null,
   "id": "998923df",
   "metadata": {},
   "outputs": [],
   "source": [
    "from sklearn.preprocessing import StandardScaler\n",
    "\n",
    "scaler = StandardScaler()\n",
    "df[num_features] = scaler.fit_transform(df[num_features])\n"
   ]
  },
  {
   "cell_type": "markdown",
   "id": "665e5c09",
   "metadata": {},
   "source": [
    "Feature and Target Selections"
   ]
  },
  {
   "cell_type": "code",
   "execution_count": null,
   "id": "d01eef1b",
   "metadata": {},
   "outputs": [],
   "source": [
    "print(X.shape, y.shape)"
   ]
  },
  {
   "cell_type": "markdown",
   "id": "6290ac12",
   "metadata": {},
   "source": [
    "Train, Test and Split"
   ]
  },
  {
   "cell_type": "code",
   "execution_count": null,
   "id": "373d42cb",
   "metadata": {},
   "outputs": [],
   "source": [
    "from sklearn.model_selection import train_test_split\n",
    "\n",
    "X_train, X_val, y_train, y_val = train_test_split(\n",
    "    X, y, test_size=0.2, random_state=42\n",
    ")"
   ]
  },
  {
   "cell_type": "markdown",
   "id": "2168738c",
   "metadata": {},
   "source": [
    "Linear Regression"
   ]
  },
  {
   "cell_type": "code",
   "execution_count": null,
   "id": "bb557b1f",
   "metadata": {},
   "outputs": [],
   "source": [
    "from sklearn.linear_model import LinearRegression\n",
    "from sklearn.metrics import mean_squared_error\n",
    "import numpy as np\n",
    "\n",
    "# Train model\n",
    "lr = LinearRegression()\n",
    "lr.fit(X_train, y_train)\n",
    "\n",
    "# Predictions\n",
    "y_pred_lr = lr.predict(X_val)\n",
    "\n",
    "# Evaluate with RMSE\n",
    "rmse_lr = np.sqrt(mean_squared_error(y_val, y_pred_lr))"
   ]
  },
  {
   "cell_type": "markdown",
   "id": "18c1f501",
   "metadata": {},
   "source": [
    "Decision Tree Regressor"
   ]
  },
  {
   "cell_type": "code",
   "execution_count": null,
   "id": "df78b5f6",
   "metadata": {},
   "outputs": [],
   "source": [
    "from sklearn.tree import DecisionTreeRegressor\n",
    "\n",
    "# Train model\n",
    "dt = DecisionTreeRegressor(random_state=42)\n",
    "dt.fit(X_train, y_train)\n",
    "\n",
    "# Predictions\n",
    "y_pred_dt = dt.predict(X_val)\n",
    "\n",
    "# Evaluate\n",
    "rmse_dt = np.sqrt(mean_squared_error(y_val, y_pred_dt))"
   ]
  },
  {
   "cell_type": "markdown",
   "id": "5ac58bd2",
   "metadata": {},
   "source": [
    "Comparing RMSE Values of Linear Regression and Decision Tree"
   ]
  },
  {
   "cell_type": "code",
   "execution_count": null,
   "id": "12077494",
   "metadata": {},
   "outputs": [],
   "source": [
    "print(\"Linear Regression RMSE:\", rmse_lr)\n",
    "print(\"Decision Tree RMSE:\", rmse_dt)"
   ]
  },
  {
   "cell_type": "markdown",
   "id": "085c3d58",
   "metadata": {},
   "source": [
    "### Ensemble Models"
   ]
  },
  {
   "cell_type": "markdown",
   "id": "23d817d7",
   "metadata": {},
   "source": [
    "Random Forest Regressor"
   ]
  },
  {
   "cell_type": "code",
   "execution_count": null,
   "id": "900d4dc3",
   "metadata": {},
   "outputs": [],
   "source": [
    "from sklearn.ensemble import RandomForestRegressor\n",
    "\n",
    "rf = RandomForestRegressor(n_estimators=100, random_state=42)\n",
    "rf.fit(X_train, y_train)\n",
    "\n",
    "y_pred_rf = rf.predict(X_val)\n",
    "rmse_rf = np.sqrt(mean_squared_error(y_val, y_pred_rf))\n",
    "print(\"Random Forest RMSE:\", rmse_rf)"
   ]
  },
  {
   "cell_type": "markdown",
   "id": "dbaa4cb7",
   "metadata": {},
   "source": [
    "XGBoost Regressor"
   ]
  },
  {
   "cell_type": "code",
   "execution_count": null,
   "id": "6164353e",
   "metadata": {},
   "outputs": [],
   "source": [
    "pip install xgboost"
   ]
  },
  {
   "cell_type": "code",
   "execution_count": null,
   "id": "e80eb319",
   "metadata": {},
   "outputs": [],
   "source": [
    "from xgboost import XGBRegressor\n",
    "\n",
    "xgb = XGBRegressor(n_estimators=500, learning_rate=0.05, max_depth=4, random_state=42)\n",
    "xgb.fit(X_train, y_train)\n",
    "\n",
    "y_pred_xgb = xgb.predict(X_val)\n",
    "rmse_xgb = np.sqrt(mean_squared_error(y_val, y_pred_xgb))\n",
    "print(\"XGBoost RMSE:\", rmse_xgb)"
   ]
  },
  {
   "cell_type": "markdown",
   "id": "92b02ef3",
   "metadata": {},
   "source": [
    "Comparison of All Models"
   ]
  },
  {
   "cell_type": "code",
   "execution_count": null,
   "id": "ab22c2c6",
   "metadata": {},
   "outputs": [],
   "source": [
    "print(\"Linear Regression RMSE:\", rmse_lr)\n",
    "print(\"Decision Tree RMSE:\", rmse_dt)\n",
    "print(\"Random Forest RMSE:\", rmse_rf)\n",
    "print(\"XGBoost RMSE:\", rmse_xgb)"
   ]
  },
  {
   "cell_type": "markdown",
   "id": "8a677aa0",
   "metadata": {},
   "source": [
    "Feature Importance"
   ]
  },
  {
   "cell_type": "code",
   "execution_count": null,
   "id": "59a974b9",
   "metadata": {},
   "outputs": [],
   "source": [
    "import matplotlib.pyplot as plt\n",
    "import seaborn as sns\n",
    "\n",
    "# Random Forest feature importance\n",
    "feat_importances = pd.Series(rf.feature_importances_, index=X.columns)\n",
    "top_features = feat_importances.nlargest(20)\n",
    "\n",
    "plt.figure(figsize=(10,6))\n",
    "sns.barplot(x=top_features, y=top_features.index)\n",
    "plt.title(\"Top 20 Important Features (Random Forest)\")\n",
    "plt.show()\n"
   ]
  },
  {
   "cell_type": "markdown",
   "id": "492dd5e5",
   "metadata": {},
   "source": [
    "### Cross Validation And Hyperparameter Tuning"
   ]
  },
  {
   "cell_type": "markdown",
   "id": "daea5439",
   "metadata": {},
   "source": [
    "CV For Random Forest"
   ]
  },
  {
   "cell_type": "code",
   "execution_count": null,
   "id": "d9c33954",
   "metadata": {},
   "outputs": [],
   "source": [
    "from sklearn.model_selection import cross_val_score\n",
    "import numpy as np\n",
    "\n",
    "rf = RandomForestRegressor(n_estimators=100, random_state=42)\n",
    "\n",
    "# Negative MSE → convert to RMSE\n",
    "scores = cross_val_score(rf, X, y, cv=5, scoring=\"neg_mean_squared_error\")\n",
    "rmse_scores = np.sqrt(-scores)\n",
    "\n",
    "print(\"Cross-validation RMSE scores:\", rmse_scores)\n",
    "print(\"Mean RMSE:\", rmse_scores.mean())\n",
    "print(\"Std Dev:\", rmse_scores.std())"
   ]
  },
  {
   "cell_type": "markdown",
   "id": "61f85e80",
   "metadata": {},
   "source": [
    "Hyperparameter Tuning For RandomForest"
   ]
  },
  {
   "cell_type": "code",
   "execution_count": null,
   "id": "a4024bbc",
   "metadata": {},
   "outputs": [],
   "source": [
    "from sklearn.model_selection import RandomizedSearchCV\n",
    "\n",
    "param_grid = {\n",
    "    'n_estimators': [100, 200, 500],\n",
    "    'max_depth': [None, 5, 10, 20],\n",
    "    'min_samples_split': [2, 5, 10],\n",
    "    'min_samples_leaf': [1, 2, 4]\n",
    "}\n",
    "\n",
    "rf = RandomForestRegressor(random_state=42)\n",
    "\n",
    "search = RandomizedSearchCV(\n",
    "    rf,\n",
    "    param_distributions=param_grid,\n",
    "    n_iter=10,  # number of random configs\n",
    "    cv=3,\n",
    "    scoring=\"neg_mean_squared_error\",\n",
    "    n_jobs=-1,\n",
    "    random_state=42\n",
    ")\n",
    "\n",
    "search.fit(X, y)\n",
    "\n",
    "print(\"Best parameters:\", search.best_params_)\n",
    "print(\"Best RMSE:\", np.sqrt(-search.best_score_))"
   ]
  },
  {
   "cell_type": "markdown",
   "id": "ef9d7b74",
   "metadata": {},
   "source": [
    "Hyperparameter Tuning For XGB"
   ]
  },
  {
   "cell_type": "code",
   "execution_count": null,
   "id": "ec1f23fe",
   "metadata": {},
   "outputs": [],
   "source": [
    "param_grid_xgb = {\n",
    "    'n_estimators': [300, 500, 800],\n",
    "    'max_depth': [3, 4, 5, 6],\n",
    "    'learning_rate': [0.01, 0.05, 0.1],\n",
    "    'subsample': [0.7, 0.8, 1.0]\n",
    "}\n",
    "\n",
    "xgb = XGBRegressor(random_state=42)\n",
    "\n",
    "search_xgb = RandomizedSearchCV(\n",
    "    xgb,\n",
    "    param_distributions=param_grid_xgb,\n",
    "    n_iter=10,\n",
    "    cv=3,\n",
    "    scoring=\"neg_mean_squared_error\",\n",
    "    n_jobs=-1,\n",
    "    random_state=42\n",
    ")\n",
    "\n",
    "search_xgb.fit(X, y)\n",
    "\n",
    "print(\"Best parameters (XGB):\", search_xgb.best_params_)\n",
    "print(\"Best RMSE (XGB):\", np.sqrt(-search_xgb.best_score_))"
   ]
  },
  {
   "cell_type": "markdown",
   "id": "9f6a1931",
   "metadata": {},
   "source": [
    "Model Leaderboard"
   ]
  },
  {
   "cell_type": "code",
   "execution_count": null,
   "id": "851adaca",
   "metadata": {},
   "outputs": [],
   "source": [
    "import pandas as pd\n",
    "\n",
    "results = {\n",
    "    \"Model\": [\"Linear Regression\", \"Decision Tree\", \"Random Forest\", \"XGBoost\"],\n",
    "    \"RMSE\": [rmse_lr, rmse_dt, rmse_rf, rmse_xgb]\n",
    "}\n",
    "\n",
    "df_results = pd.DataFrame(results).sort_values(by=\"RMSE\")\n",
    "print(df_results)"
   ]
  },
  {
   "cell_type": "code",
   "execution_count": null,
   "id": "29f5e444",
   "metadata": {},
   "outputs": [],
   "source": [
    "from sklearn.linear_model import LinearRegression\n",
    "from sklearn.tree import DecisionTreeRegressor\n",
    "from sklearn.ensemble import RandomForestRegressor\n",
    "from xgboost import XGBRegressor\n",
    "from sklearn.model_selection import cross_val_score\n",
    "import numpy as np\n",
    "\n",
    "models = {\n",
    "    \"Linear Regression\": LinearRegression(),\n",
    "    \"Decision Tree\": DecisionTreeRegressor(random_state=42),\n",
    "    \"Random Forest\": RandomForestRegressor(n_estimators=200, random_state=42),\n",
    "    \"XGBoost\": XGBRegressor(n_estimators=500, learning_rate=0.05, max_depth=4, random_state=42)\n",
    "}"
   ]
  },
  {
   "cell_type": "code",
   "execution_count": null,
   "id": "9995ec51",
   "metadata": {},
   "outputs": [],
   "source": [
    "results = {}\n",
    "\n",
    "for name, model in models.items():\n",
    "    scores = cross_val_score(model, X, y, cv=5, scoring=\"neg_mean_squared_error\", n_jobs=-1)\n",
    "    rmse_scores = np.sqrt(-scores)\n",
    "    results[name] = rmse_scores.mean()\n",
    "\n",
    "# Sort results\n",
    "results = dict(sorted(results.items(), key=lambda x: x[1]))\n",
    "print(\"Model Leaderboard (lower RMSE is better):\")\n",
    "for name, score in results.items():\n",
    "    print(f\"{name}: {score:.2f}\")"
   ]
  },
  {
   "cell_type": "code",
   "execution_count": null,
   "id": "9935ba0b",
   "metadata": {},
   "outputs": [],
   "source": [
    "best_model_name = list(results.keys())[0]\n",
    "best_model = models[best_model_name]\n",
    "\n",
    "# Train best model on full dataset\n",
    "best_model.fit(X, y)\n",
    "\n",
    "print(f\"✅ Best model selected: {best_model_name}\")"
   ]
  },
  {
   "cell_type": "code",
   "execution_count": null,
   "id": "3f8c25cf",
   "metadata": {},
   "outputs": [],
   "source": [
    "import joblib\n",
    "\n",
    "joblib.dump(best_model, \"best_model.pkl\")\n",
    "print(\"Model saved as best_model.pkl\")"
   ]
  },
  {
   "cell_type": "code",
   "execution_count": null,
   "id": "8f3efac6",
   "metadata": {},
   "outputs": [],
   "source": [
    "# Example of loading and using the model later\n",
    "loaded_model = joblib.load(\"best_model.pkl\")\n",
    "\n",
    "sample = X.iloc[[0]]  # take first row\n",
    "print(\"Prediction:\", best_model.predict(sample))"
   ]
  }
 ],
 "metadata": {
  "kernelspec": {
   "display_name": "Python 3",
   "language": "python",
   "name": "python3"
  },
  "language_info": {
   "codemirror_mode": {
    "name": "ipython",
    "version": 3
   },
   "file_extension": ".py",
   "mimetype": "text/x-python",
   "name": "python",
   "nbconvert_exporter": "python",
   "pygments_lexer": "ipython3",
   "version": "3.13.5"
  }
 },
 "nbformat": 4,
 "nbformat_minor": 5
}
